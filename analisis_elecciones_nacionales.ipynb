{
  "nbformat": 4,
  "nbformat_minor": 0,
  "metadata": {
    "colab": {
      "provenance": [],
      "authorship_tag": "ABX9TyPzZgWMW1DMAyADyBHJ9pWn",
      "include_colab_link": true
    },
    "kernelspec": {
      "name": "python3",
      "display_name": "Python 3"
    },
    "language_info": {
      "name": "python"
    }
  },
  "cells": [
    {
      "cell_type": "markdown",
      "metadata": {
        "id": "view-in-github",
        "colab_type": "text"
      },
      "source": [
        "<a href=\"https://colab.research.google.com/github/marianobonelli/analisis_elecciones_nacionales/blob/main/analisis_elecciones_nacionales.ipynb\" target=\"_parent\"><img src=\"https://colab.research.google.com/assets/colab-badge.svg\" alt=\"Open In Colab\"/></a>"
      ]
    },
    {
      "cell_type": "markdown",
      "source": [
        "### Mariano F. Bonelli\n",
        "\n",
        "[<img src=\"https://camo.githubusercontent.com/dd9207aae8b652b023f5cf40711ad4536a4f9b41ca5136648b6c7dda52421da2/68747470733a2f2f696d672e736869656c64732e696f2f62616467652f4d792d4c696e6b6564496e2d626c7565\" alt=\"LinkedIn Badge\" data-canonical-src=\"https://img.shields.io/badge/My-LinkedIn-blue\" style=\"max-width: 100%;\">](https://www.linkedin.com/in/mariano-francisco-bonelli/)"
      ],
      "metadata": {
        "id": "oS_-uB4F0Win"
      }
    },
    {
      "cell_type": "code",
      "execution_count": 3,
      "metadata": {
        "colab": {
          "base_uri": "https://localhost:8080/"
        },
        "id": "7ja_NIm2zcg-",
        "outputId": "057eb1ab-1c32-453c-b983-d57b2dfca1d8"
      },
      "outputs": [
        {
          "output_type": "stream",
          "name": "stdout",
          "text": [
            "Cloning into 'analisis_elecciones_nacionales'...\n",
            "remote: Enumerating objects: 75, done.\u001b[K\n",
            "remote: Counting objects: 100% (2/2), done.\u001b[K\n",
            "remote: Compressing objects: 100% (2/2), done.\u001b[K\n",
            "remote: Total 75 (delta 1), reused 0 (delta 0), pack-reused 73\u001b[K\n",
            "Receiving objects: 100% (75/75), 584.42 KiB | 4.46 MiB/s, done.\n",
            "Resolving deltas: 100% (50/50), done.\n"
          ]
        }
      ],
      "source": [
        "!git clone https://github.com/marianobonelli/analisis_elecciones_nacionales.git"
      ]
    }
  ]
}